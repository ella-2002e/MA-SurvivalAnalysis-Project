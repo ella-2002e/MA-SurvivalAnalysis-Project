{
 "cells": [
  {
   "cell_type": "markdown",
   "metadata": {
    "slideshow": {
     "slide_type": "slide"
    }
   },
   "source": [
    "# Demo of Survival Analysis Package"
   ]
  },
  {
   "cell_type": "markdown",
   "metadata": {
    "slideshow": {
     "slide_type": "slide"
    }
   },
   "source": [
    "## Step 1: Database Schema Initiation"
   ]
  },
  {
   "cell_type": "code",
   "execution_count": 1,
   "metadata": {
    "slideshow": {
     "slide_type": "subslide"
    }
   },
   "outputs": [
    {
     "name": "stderr",
     "output_type": "stream",
     "text": [
      "\u001b[38;5;183m2023-12-08 11:42:06,471 - schema.py - <module> - INFO - (Schema Has Been Created) - line: 142\u001b[0m\n"
     ]
    }
   ],
   "source": [
    "from survival_analysis.database_preparation.schema import *"
   ]
  },
  {
   "cell_type": "markdown",
   "metadata": {
    "slideshow": {
     "slide_type": "subslide"
    }
   },
   "source": [
    "![Database ERD](survival_analysis/docs/ERD.jpg)"
   ]
  },
  {
   "cell_type": "markdown",
   "metadata": {
    "slideshow": {
     "slide_type": "slide"
    }
   },
   "source": [
    "## Step 2: Adding Customer Data to the DB"
   ]
  },
  {
   "cell_type": "code",
   "execution_count": 2,
   "metadata": {
    "slideshow": {
     "slide_type": "subslide"
    }
   },
   "outputs": [],
   "source": [
    "from survival_analysis.database_preparation.sql_interactions\\\n",
    "    import SqlHandler\n",
    "import pandas as pd"
   ]
  },
  {
   "cell_type": "markdown",
   "metadata": {
    "slideshow": {
     "slide_type": "subslide"
    }
   },
   "source": [
    "* **Getting Data from a CSV File**"
   ]
  },
  {
   "cell_type": "code",
   "execution_count": 3,
   "metadata": {
    "slideshow": {
     "slide_type": "fragment"
    }
   },
   "outputs": [
    {
     "data": {
      "text/html": [
       "<div>\n",
       "<style scoped>\n",
       "    .dataframe tbody tr th:only-of-type {\n",
       "        vertical-align: middle;\n",
       "    }\n",
       "\n",
       "    .dataframe tbody tr th {\n",
       "        vertical-align: top;\n",
       "    }\n",
       "\n",
       "    .dataframe thead th {\n",
       "        text-align: right;\n",
       "    }\n",
       "</style>\n",
       "<table border=\"1\" class=\"dataframe\">\n",
       "  <thead>\n",
       "    <tr style=\"text-align: right;\">\n",
       "      <th></th>\n",
       "      <th>Customer_ID</th>\n",
       "      <th>region</th>\n",
       "      <th>tenure</th>\n",
       "      <th>Age</th>\n",
       "      <th>Marital_Status</th>\n",
       "      <th>Address_ID</th>\n",
       "      <th>income</th>\n",
       "      <th>Education</th>\n",
       "      <th>Retirement</th>\n",
       "      <th>gender</th>\n",
       "      <th>Voice_Included</th>\n",
       "      <th>Internet_Included</th>\n",
       "      <th>Forward_Included</th>\n",
       "      <th>service_category</th>\n",
       "      <th>churn</th>\n",
       "    </tr>\n",
       "  </thead>\n",
       "  <tbody>\n",
       "    <tr>\n",
       "      <th>0</th>\n",
       "      <td>1</td>\n",
       "      <td>Zone 2</td>\n",
       "      <td>13</td>\n",
       "      <td>44</td>\n",
       "      <td>Married</td>\n",
       "      <td>9</td>\n",
       "      <td>64</td>\n",
       "      <td>College degree</td>\n",
       "      <td>No</td>\n",
       "      <td>Male</td>\n",
       "      <td>No</td>\n",
       "      <td>No</td>\n",
       "      <td>Yes</td>\n",
       "      <td>Basic service</td>\n",
       "      <td>Yes</td>\n",
       "    </tr>\n",
       "    <tr>\n",
       "      <th>1</th>\n",
       "      <td>2</td>\n",
       "      <td>Zone 3</td>\n",
       "      <td>11</td>\n",
       "      <td>33</td>\n",
       "      <td>Married</td>\n",
       "      <td>7</td>\n",
       "      <td>136</td>\n",
       "      <td>Post-undergraduate degree</td>\n",
       "      <td>No</td>\n",
       "      <td>Male</td>\n",
       "      <td>Yes</td>\n",
       "      <td>No</td>\n",
       "      <td>Yes</td>\n",
       "      <td>Total service</td>\n",
       "      <td>Yes</td>\n",
       "    </tr>\n",
       "    <tr>\n",
       "      <th>2</th>\n",
       "      <td>3</td>\n",
       "      <td>Zone 3</td>\n",
       "      <td>68</td>\n",
       "      <td>52</td>\n",
       "      <td>Married</td>\n",
       "      <td>24</td>\n",
       "      <td>116</td>\n",
       "      <td>Did not complete high school</td>\n",
       "      <td>No</td>\n",
       "      <td>Female</td>\n",
       "      <td>No</td>\n",
       "      <td>No</td>\n",
       "      <td>No</td>\n",
       "      <td>Plus service</td>\n",
       "      <td>No</td>\n",
       "    </tr>\n",
       "    <tr>\n",
       "      <th>3</th>\n",
       "      <td>4</td>\n",
       "      <td>Zone 2</td>\n",
       "      <td>33</td>\n",
       "      <td>33</td>\n",
       "      <td>Unmarried</td>\n",
       "      <td>12</td>\n",
       "      <td>33</td>\n",
       "      <td>High school degree</td>\n",
       "      <td>No</td>\n",
       "      <td>Female</td>\n",
       "      <td>No</td>\n",
       "      <td>No</td>\n",
       "      <td>No</td>\n",
       "      <td>Basic service</td>\n",
       "      <td>Yes</td>\n",
       "    </tr>\n",
       "    <tr>\n",
       "      <th>4</th>\n",
       "      <td>5</td>\n",
       "      <td>Zone 2</td>\n",
       "      <td>23</td>\n",
       "      <td>30</td>\n",
       "      <td>Married</td>\n",
       "      <td>9</td>\n",
       "      <td>30</td>\n",
       "      <td>Did not complete high school</td>\n",
       "      <td>No</td>\n",
       "      <td>Male</td>\n",
       "      <td>No</td>\n",
       "      <td>No</td>\n",
       "      <td>Yes</td>\n",
       "      <td>Plus service</td>\n",
       "      <td>No</td>\n",
       "    </tr>\n",
       "  </tbody>\n",
       "</table>\n",
       "</div>"
      ],
      "text/plain": [
       "   Customer_ID  region  tenure  Age Marital_Status  Address_ID  income  \\\n",
       "0            1  Zone 2      13   44        Married           9      64   \n",
       "1            2  Zone 3      11   33        Married           7     136   \n",
       "2            3  Zone 3      68   52        Married          24     116   \n",
       "3            4  Zone 2      33   33      Unmarried          12      33   \n",
       "4            5  Zone 2      23   30        Married           9      30   \n",
       "\n",
       "                      Education Retirement  gender Voice_Included  \\\n",
       "0                College degree         No    Male             No   \n",
       "1     Post-undergraduate degree         No    Male            Yes   \n",
       "2  Did not complete high school         No  Female             No   \n",
       "3            High school degree         No  Female             No   \n",
       "4  Did not complete high school         No    Male             No   \n",
       "\n",
       "  Internet_Included Forward_Included service_category churn  \n",
       "0                No              Yes    Basic service   Yes  \n",
       "1                No              Yes    Total service   Yes  \n",
       "2                No               No     Plus service    No  \n",
       "3                No               No    Basic service   Yes  \n",
       "4                No              Yes     Plus service    No  "
      ]
     },
     "execution_count": 3,
     "metadata": {},
     "output_type": "execute_result"
    }
   ],
   "source": [
    "# For Windows users\n",
    "data = pd.read_csv(r'Raw Data\\telco.csv')\n",
    "\n",
    "# For Mac Users\n",
    "#data = pd.read_csv(r'Raw Data/telco.csv')\n",
    "data.head()"
   ]
  },
  {
   "cell_type": "markdown",
   "metadata": {
    "slideshow": {
     "slide_type": "subslide"
    }
   },
   "source": [
    "* **Populating the 'DimCustomer' table**"
   ]
  },
  {
   "cell_type": "code",
   "execution_count": 4,
   "metadata": {
    "slideshow": {
     "slide_type": "fragment"
    }
   },
   "outputs": [
    {
     "name": "stderr",
     "output_type": "stream",
     "text": [
      "\u001b[38;5;183m2023-12-08 11:42:16,993 - sql_interactions.py - insert_many - INFO - (BEFORE the column intersection: ['customer_id', 'region', 'tenure', 'age', 'marital_status', 'address_id', 'income', 'education', 'retirement', 'gender', 'voice_included', 'internet_included', 'forward_included', 'service_category', 'churn']) - line: 173\u001b[0m\n",
      "\u001b[38;5;183m2023-12-08 11:42:16,996 - sql_interactions.py - get_table_columns - INFO - (The list of columns: ['Customer_ID', 'Age', 'Tenure', 'Gender', 'Income', 'Marital_Status', 'Address_ID', 'Education', 'Retirement', 'Churn', 'Region', 'Service_Category', 'Voice_Included', 'Internet_Included', 'Forward_Included']) - line: 136\u001b[0m\n",
      "\u001b[38;5;183m2023-12-08 11:42:16,998 - sql_interactions.py - insert_many - INFO - (AFTER the column intersection: ['customer_id', 'internet_included', 'retirement', 'voice_included', 'income', 'forward_included', 'education', 'tenure', 'age', 'marital_status', 'address_id', 'churn', 'service_category', 'gender', 'region']) - line: 176\u001b[0m\n",
      "\u001b[38;5;183m2023-12-08 11:42:17,006 - sql_interactions.py - insert_many - INFO - (The shape of the table which is going to be imported (1000, 15)) - line: 180\u001b[0m\n",
      "\u001b[38;5;183m2023-12-08 11:42:17,008 - sql_interactions.py - insert_many - INFO - (Insert structure: colnames: customer_id, internet_included, retirement, voice_included, income, forward_included, education, tenure, age, marital_status, address_id, churn, service_category, gender, region params: ?, ?, ?, ?, ?, ?, ?, ?, ?, ?, ?, ?, ?, ?, ?) - line: 185\u001b[0m\n",
      "\u001b[38;5;183m2023-12-08 11:42:17,009 - sql_interactions.py - insert_many - INFO - ((1, 'No', 'No', 'No', 64, 'Yes', 'College degree', 13, 44, 'Married', 9, 'Yes', 'Basic service', 'Male', 'Zone 2')) - line: 186\u001b[0m\n",
      "\u001b[38;5;183m2023-12-08 11:42:17,010 - sql_interactions.py - insert_many - INFO - (QUERY: INSERT INTO DimCustomer (customer_id, internet_included, retirement, voice_included, income, forward_included, education, tenure, age, marital_status, address_id, churn, service_category, gender, region) VALUES (?, ?, ?, ?, ?, ?, ?, ?, ?, ?, ?, ?, ?, ?, ?);) - line: 188\u001b[0m\n",
      "\u001b[33;20m2023-12-08 11:42:17,025 - sql_interactions.py - insert_many - WARNING - (The data is loaded) - line: 196\u001b[0m\n",
      "\u001b[38;5;183m2023-12-08 11:42:17,026 - sql_interactions.py - close_cnxn - INFO - (Committing the changes) - line: 77\u001b[0m\n",
      "\u001b[38;5;183m2023-12-08 11:42:17,028 - sql_interactions.py - close_cnxn - INFO - (The connection has been closed) - line: 79\u001b[0m\n"
     ]
    }
   ],
   "source": [
    "Inst = SqlHandler('sa_db', 'DimCustomer')\n",
    "Inst.insert_many(data) \n",
    "Inst.close_cnxn()"
   ]
  },
  {
   "cell_type": "markdown",
   "metadata": {
    "slideshow": {
     "slide_type": "slide"
    }
   },
   "source": [
    "## Step 3: Running the Model to Estimate Customer Churn Rate and CLV"
   ]
  },
  {
   "cell_type": "code",
   "execution_count": 5,
   "metadata": {
    "slideshow": {
     "slide_type": "subslide"
    }
   },
   "outputs": [],
   "source": [
    "from survival_analysis.model_preparation.model_AFT import AFTModelSelector\n",
    "from survival_analysis.database_preparation.sql_interactions\\\n",
    "    import SqlHandler\n",
    "from survival_analysis.utils import format_dataframe\n",
    "import pandas as pd"
   ]
  },
  {
   "cell_type": "markdown",
   "metadata": {
    "slideshow": {
     "slide_type": "subslide"
    }
   },
   "source": [
    "* **Getting Data From the DB**"
   ]
  },
  {
   "cell_type": "code",
   "execution_count": 6,
   "metadata": {
    "slideshow": {
     "slide_type": "fragment"
    }
   },
   "outputs": [
    {
     "name": "stderr",
     "output_type": "stream",
     "text": [
      "\u001b[38;5;183m2023-12-08 11:42:21,917 - sql_interactions.py - from_sql_to_pandas - INFO - (The shape of the chunk: (100, 15)) - line: 219\u001b[0m\n",
      "\u001b[38;5;183m2023-12-08 11:42:21,922 - sql_interactions.py - from_sql_to_pandas - INFO - (The shape of the chunk: (100, 15)) - line: 219\u001b[0m\n",
      "\u001b[38;5;183m2023-12-08 11:42:21,926 - sql_interactions.py - from_sql_to_pandas - INFO - (The shape of the chunk: (100, 15)) - line: 219\u001b[0m\n",
      "\u001b[38;5;183m2023-12-08 11:42:21,929 - sql_interactions.py - from_sql_to_pandas - INFO - (The shape of the chunk: (100, 15)) - line: 219\u001b[0m\n",
      "\u001b[38;5;183m2023-12-08 11:42:21,933 - sql_interactions.py - from_sql_to_pandas - INFO - (The shape of the chunk: (100, 15)) - line: 219\u001b[0m\n",
      "\u001b[38;5;183m2023-12-08 11:42:21,937 - sql_interactions.py - from_sql_to_pandas - INFO - (The shape of the chunk: (100, 15)) - line: 219\u001b[0m\n",
      "\u001b[38;5;183m2023-12-08 11:42:21,941 - sql_interactions.py - from_sql_to_pandas - INFO - (The shape of the chunk: (100, 15)) - line: 219\u001b[0m\n",
      "\u001b[38;5;183m2023-12-08 11:42:21,945 - sql_interactions.py - from_sql_to_pandas - INFO - (The shape of the chunk: (100, 15)) - line: 219\u001b[0m\n",
      "\u001b[38;5;183m2023-12-08 11:42:21,950 - sql_interactions.py - from_sql_to_pandas - INFO - (The shape of the chunk: (100, 15)) - line: 219\u001b[0m\n",
      "\u001b[38;5;183m2023-12-08 11:42:21,955 - sql_interactions.py - from_sql_to_pandas - INFO - (The shape of the chunk: (100, 15)) - line: 219\u001b[0m\n",
      "\u001b[38;5;183m2023-12-08 11:42:21,961 - sql_interactions.py - from_sql_to_pandas - INFO - (The shape of the chunk: (0, 15)) - line: 219\u001b[0m\n",
      "\u001b[33;20m2023-12-08 11:42:21,962 - sql_interactions.py - from_sql_to_pandas - WARNING - (Loading the data from SQL is finished) - line: 223\u001b[0m\n",
      "\u001b[38;20m2023-12-08 11:42:21,963 - sql_interactions.py - from_sql_to_pandas - DEBUG - (Connection is closed) - line: 224\u001b[0m\n",
      "\u001b[38;5;183m2023-12-08 11:42:21,973 - sql_interactions.py - close_cnxn - INFO - (Committing the changes) - line: 77\u001b[0m\n",
      "\u001b[38;5;183m2023-12-08 11:42:21,974 - sql_interactions.py - close_cnxn - INFO - (The connection has been closed) - line: 79\u001b[0m\n"
     ]
    }
   ],
   "source": [
    "#Initiate the connection\n",
    "Inst=SqlHandler('sa_db', 'DimCustomer')\n",
    "\n",
    "#Get data in dataframe format\n",
    "df = Inst.from_sql_to_pandas(chunksize=100, id_value = 'Customer_ID')\n",
    "\n",
    "#Close the connection\n",
    "Inst.close_cnxn()"
   ]
  },
  {
   "cell_type": "markdown",
   "metadata": {
    "slideshow": {
     "slide_type": "subslide"
    }
   },
   "source": [
    "* **Dumifying the Categorical Variables**"
   ]
  },
  {
   "cell_type": "code",
   "execution_count": 7,
   "metadata": {
    "slideshow": {
     "slide_type": "fragment"
    }
   },
   "outputs": [],
   "source": [
    "df = format_dataframe(df)"
   ]
  },
  {
   "cell_type": "markdown",
   "metadata": {
    "slideshow": {
     "slide_type": "subslide"
    }
   },
   "source": [
    "* **Running the Model**\n",
    "1. Chooses the Best Accelerated Failure Time (AFT) model among Exponential, Weibull,\n",
    " Log-Normal & Log-Logistic based on AIC. \n",
    "2. Computes Churn Rates & CLV For Each Customer for Specified Number of Periods. \n",
    "3. Returns the Results in a Dataframe. "
   ]
  },
  {
   "cell_type": "code",
   "execution_count": 8,
   "metadata": {
    "slideshow": {
     "slide_type": "fragment"
    }
   },
   "outputs": [
    {
     "name": "stderr",
     "output_type": "stream",
     "text": [
      "\u001b[38;5;183m2023-12-08 11:42:28,426 - model_AFT.py - select_best_model - INFO - (Weibull AIC: 2958.357126946646) - line: 86\u001b[0m\n",
      "\u001b[38;5;183m2023-12-08 11:42:28,762 - model_AFT.py - select_best_model - INFO - (Exponential AIC: 3052.729101281061) - line: 86\u001b[0m\n",
      "\u001b[38;5;183m2023-12-08 11:42:29,808 - model_AFT.py - select_best_model - INFO - (LogNormal AIC: 2950.3002131922785) - line: 86\u001b[0m\n",
      "\u001b[38;5;183m2023-12-08 11:42:30,423 - model_AFT.py - select_best_model - INFO - (LogLogistic AIC: 2952.2582596356688) - line: 86\u001b[0m\n",
      "\u001b[33;20m2023-12-08 11:42:30,425 - model_AFT.py - select_best_model - WARNING - (\n",
      "Best Model: LogNormal with AIC: 2950.3002131922785) - line: 92\u001b[0m\n",
      "\u001b[38;5;183m2023-12-08 11:42:30,518 - model_AFT.py - fit_and_predict - INFO - (The AFT model was run successfully.) - line: 138\u001b[0m\n",
      "\u001b[38;5;183m2023-12-08 11:42:30,604 - model_AFT.py - calculate_clv - INFO - (The CLV predictions were added successfully.) - line: 188\u001b[0m\n"
     ]
    },
    {
     "data": {
      "text/html": [
       "<div>\n",
       "<style scoped>\n",
       "    .dataframe tbody tr th:only-of-type {\n",
       "        vertical-align: middle;\n",
       "    }\n",
       "\n",
       "    .dataframe tbody tr th {\n",
       "        vertical-align: top;\n",
       "    }\n",
       "\n",
       "    .dataframe thead th {\n",
       "        text-align: right;\n",
       "    }\n",
       "</style>\n",
       "<table border=\"1\" class=\"dataframe\">\n",
       "  <thead>\n",
       "    <tr style=\"text-align: right;\">\n",
       "      <th></th>\n",
       "      <th>customer_id</th>\n",
       "      <th>pred_period</th>\n",
       "      <th>churn_rate</th>\n",
       "      <th>CLV</th>\n",
       "    </tr>\n",
       "  </thead>\n",
       "  <tbody>\n",
       "    <tr>\n",
       "      <th>0</th>\n",
       "      <td>1</td>\n",
       "      <td>1</td>\n",
       "      <td>0.00060</td>\n",
       "      <td>1299.220</td>\n",
       "    </tr>\n",
       "    <tr>\n",
       "      <th>1</th>\n",
       "      <td>2</td>\n",
       "      <td>1</td>\n",
       "      <td>0.00013</td>\n",
       "      <td>1299.831</td>\n",
       "    </tr>\n",
       "    <tr>\n",
       "      <th>2</th>\n",
       "      <td>3</td>\n",
       "      <td>1</td>\n",
       "      <td>0.00000</td>\n",
       "      <td>1300.000</td>\n",
       "    </tr>\n",
       "    <tr>\n",
       "      <th>3</th>\n",
       "      <td>4</td>\n",
       "      <td>1</td>\n",
       "      <td>0.00115</td>\n",
       "      <td>1298.505</td>\n",
       "    </tr>\n",
       "    <tr>\n",
       "      <th>4</th>\n",
       "      <td>5</td>\n",
       "      <td>1</td>\n",
       "      <td>0.00006</td>\n",
       "      <td>1299.922</td>\n",
       "    </tr>\n",
       "  </tbody>\n",
       "</table>\n",
       "</div>"
      ],
      "text/plain": [
       "   customer_id pred_period  churn_rate       CLV\n",
       "0            1           1     0.00060  1299.220\n",
       "1            2           1     0.00013  1299.831\n",
       "2            3           1     0.00000  1300.000\n",
       "3            4           1     0.00115  1298.505\n",
       "4            5           1     0.00006  1299.922"
      ]
     },
     "execution_count": 8,
     "metadata": {},
     "output_type": "execute_result"
    }
   ],
   "source": [
    "#Running the AFT model for next 12 time periods\n",
    "duration_column = 'Tenure' \n",
    "event_column = 'Churn_Yes'\n",
    "primary = 'Customer_ID'\n",
    "\n",
    "aft_model_selector = AFTModelSelector(df, primary,\\\n",
    "                    duration_column, event_column)\n",
    "aft_model_selector.select_best_model()\n",
    "aft_model_selector.fit_and_predict(n_time_periods=12)\n",
    "aft_model_selector.calculate_clv()\n",
    "aft_model_selector.predictions_df.head()"
   ]
  },
  {
   "cell_type": "markdown",
   "metadata": {
    "slideshow": {
     "slide_type": "subslide"
    }
   },
   "source": [
    "* **Populating 'FactPredictions' Table**"
   ]
  },
  {
   "cell_type": "code",
   "execution_count": 9,
   "metadata": {
    "slideshow": {
     "slide_type": "fragment"
    }
   },
   "outputs": [
    {
     "name": "stderr",
     "output_type": "stream",
     "text": [
      "\u001b[38;5;183m2023-12-08 11:42:48,010 - sql_interactions.py - close_cnxn - INFO - (Committing the changes) - line: 77\u001b[0m\n",
      "INFO:sql_interactions.py:Committing the changes\n",
      "\u001b[38;5;183m2023-12-08 11:42:48,014 - sql_interactions.py - close_cnxn - INFO - (The connection has been closed) - line: 79\u001b[0m\n",
      "INFO:sql_interactions.py:The connection has been closed\n",
      "\u001b[38;5;183m2023-12-08 11:42:48,021 - sql_interactions.py - insert_many - INFO - (BEFORE the column intersection: ['customer_id', 'pred_period', 'churn_rate', 'clv']) - line: 173\u001b[0m\n",
      "INFO:sql_interactions.py:BEFORE the column intersection: ['customer_id', 'pred_period', 'churn_rate', 'clv']\n",
      "\u001b[38;5;183m2023-12-08 11:42:48,024 - sql_interactions.py - get_table_columns - INFO - (The list of columns: ['pred_period', 'customer_ID', 'CLV', 'Churn_Rate']) - line: 136\u001b[0m\n",
      "INFO:sql_interactions.py:The list of columns: ['pred_period', 'customer_ID', 'CLV', 'Churn_Rate']\n",
      "\u001b[38;5;183m2023-12-08 11:42:48,026 - sql_interactions.py - insert_many - INFO - (AFTER the column intersection: ['customer_id', 'pred_period', 'churn_rate', 'clv']) - line: 176\u001b[0m\n",
      "INFO:sql_interactions.py:AFTER the column intersection: ['customer_id', 'pred_period', 'churn_rate', 'clv']\n",
      "\u001b[38;5;183m2023-12-08 11:42:48,046 - sql_interactions.py - insert_many - INFO - (The shape of the table which is going to be imported (12000, 4)) - line: 180\u001b[0m\n",
      "INFO:sql_interactions.py:The shape of the table which is going to be imported (12000, 4)\n",
      "\u001b[38;5;183m2023-12-08 11:42:48,049 - sql_interactions.py - insert_many - INFO - (Insert structure: colnames: customer_id, pred_period, churn_rate, clv params: ?, ?, ?, ?) - line: 185\u001b[0m\n",
      "INFO:sql_interactions.py:Insert structure: colnames: customer_id, pred_period, churn_rate, clv params: ?, ?, ?, ?\n",
      "\u001b[38;5;183m2023-12-08 11:42:48,051 - sql_interactions.py - insert_many - INFO - ((1, 1, 0.0006, 1299.22)) - line: 186\u001b[0m\n",
      "INFO:sql_interactions.py:(1, 1, 0.0006, 1299.22)\n",
      "\u001b[38;5;183m2023-12-08 11:42:48,053 - sql_interactions.py - insert_many - INFO - (QUERY: INSERT INTO FactPredictions (customer_id, pred_period, churn_rate, clv) VALUES (?, ?, ?, ?);) - line: 188\u001b[0m\n",
      "INFO:sql_interactions.py:QUERY: INSERT INTO FactPredictions (customer_id, pred_period, churn_rate, clv) VALUES (?, ?, ?, ?);\n"
     ]
    },
    {
     "name": "stderr",
     "output_type": "stream",
     "text": [
      "\u001b[33;20m2023-12-08 11:42:48,103 - sql_interactions.py - insert_many - WARNING - (The data is loaded) - line: 196\u001b[0m\n",
      "WARNING:sql_interactions.py:The data is loaded\n",
      "\u001b[38;5;183m2023-12-08 11:42:48,105 - sql_interactions.py - close_cnxn - INFO - (Committing the changes) - line: 77\u001b[0m\n",
      "INFO:sql_interactions.py:Committing the changes\n",
      "\u001b[38;5;183m2023-12-08 11:42:48,107 - sql_interactions.py - close_cnxn - INFO - (The connection has been closed) - line: 79\u001b[0m\n",
      "INFO:sql_interactions.py:The connection has been closed\n"
     ]
    }
   ],
   "source": [
    "#Make sure table is initially empty\n",
    "Inst=SqlHandler('sa_db', 'FactPredictions') #initiate connection\n",
    "Inst.truncate_table() #make sure table is initially empty\n",
    "Inst.close_cnxn() #Close the connection\n",
    "\n",
    "#Inserting the results to DB \n",
    "Inst=SqlHandler('sa_db', 'FactPredictions') #initiate connection\n",
    "Inst.insert_many(aft_model_selector.predictions_df)\n",
    "Inst.close_cnxn() #Close the connection"
   ]
  },
  {
   "cell_type": "markdown",
   "metadata": {
    "slideshow": {
     "slide_type": "slide"
    }
   },
   "source": [
    "# Step 4: Running the API"
   ]
  },
  {
   "cell_type": "markdown",
   "metadata": {
    "slideshow": {
     "slide_type": "fragment"
    }
   },
   "source": [
    "Run the 'run.py' file to see the usage of the API!"
   ]
  }
 ],
 "metadata": {
  "celltoolbar": "Slideshow",
  "kernelspec": {
   "display_name": "Python 3 (ipykernel)",
   "language": "python",
   "name": "python3"
  },
  "language_info": {
   "codemirror_mode": {
    "name": "ipython",
    "version": 3
   },
   "file_extension": ".py",
   "mimetype": "text/x-python",
   "name": "python",
   "nbconvert_exporter": "python",
   "pygments_lexer": "ipython3",
   "version": "3.8.5"
  }
 },
 "nbformat": 4,
 "nbformat_minor": 2
}
